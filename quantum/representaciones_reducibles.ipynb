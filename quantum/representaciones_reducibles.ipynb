{
 "metadata": {
  "language_info": {
   "codemirror_mode": {
    "name": "ipython",
    "version": 3
   },
   "file_extension": ".py",
   "mimetype": "text/x-python",
   "name": "python",
   "nbconvert_exporter": "python",
   "pygments_lexer": "ipython3",
   "version": "3.7.6-final"
  },
  "orig_nbformat": 2,
  "kernelspec": {
   "name": "python_defaultSpec_1600526476259",
   "display_name": "Python 3.7.6 64-bit ('base': conda)"
  }
 },
 "nbformat": 4,
 "nbformat_minor": 2,
 "cells": [
  {
   "cell_type": "markdown",
   "metadata": {},
   "source": [
    "<h1 align=\"center\">Representación reducible y su descomposición en representaciones irreducibles</h1>\n",
    "<div align=\"right\">David A. Miranda, PhD<br>2020</div>"
   ]
  },
  {
   "cell_type": "markdown",
   "metadata": {},
   "source": [
    "# 1. Módulos Python"
   ]
  },
  {
   "cell_type": "code",
   "execution_count": 1,
   "metadata": {},
   "outputs": [],
   "source": [
    "import pandas as pd\n",
    "import numpy as np"
   ]
  },
  {
   "cell_type": "markdown",
   "metadata": {},
   "source": [
    "# 2. Tabla de caractéres"
   ]
  },
  {
   "cell_type": "code",
   "execution_count": 2,
   "metadata": {},
   "outputs": [],
   "source": [
    "# Nombre las clases anteponiendo Nk al nombre, por ejemplo, si la clase tiene 5 elementos, escriba 5C, donde C es la clase.\n",
    "C3v = pd.DataFrame({\n",
    "    '1E':     [1,  1,  2],\n",
    "    '2C_3':   [1,  1, -1],\n",
    "    '3Sigma': [1, -1,  0] \n",
    "})"
   ]
  },
  {
   "cell_type": "markdown",
   "metadata": {},
   "source": [
    "# 3. Definniciones y métodos auxiliares"
   ]
  },
  {
   "cell_type": "code",
   "execution_count": 3,
   "metadata": {},
   "outputs": [],
   "source": [
    "def num_class(group):\n",
    "    columns = group.columns\n",
    "    N = []\n",
    "    for k in range(len(columns)):\n",
    "        n = np.NaN\n",
    "        if columns[k][0].isnumeric():\n",
    "            n = int(columns[k][0])\n",
    "        if columns[k][0:2].isnumeric():\n",
    "            n = int(columns[k][0:2])\n",
    "        N.append(n)\n",
    "    return np.array(N)"
   ]
  },
  {
   "cell_type": "code",
   "execution_count": 4,
   "metadata": {
    "tags": []
   },
   "outputs": [],
   "source": [
    "def get_reducible_representation(group, num_irreducible):\n",
    "    Nk = num_class(group)\n",
    "    shape = group.shape\n",
    "    empty_rep = np.array(len(Nk)*[np.NaN])\n",
    "    if shape[0] != len(num_irreducible):\n",
    "        print('Error: num_irreducible debe tener %d elementos, uno por cada representación irreducible.' % shape[0])\n",
    "        return empty_rep\n",
    "    A = group.dot(np.diag(Nk))\n",
    "    b = sum(Nk)*num_irreducible\n",
    "    irreducible_prospect = np.linalg.solve(np.conjugate(A), b)\n",
    "    if (irreducible_prospect < 0).any() or ((np.int16(irreducible_prospect) - irreducible_prospect) != 0).any():\n",
    "        is_ok = False\n",
    "        print('Los números en num_irreducible no permite obtener una representación reducible.')\n",
    "        return empty_rep\n",
    "    return irreducible_prospect"
   ]
  },
  {
   "cell_type": "code",
   "execution_count": 5,
   "metadata": {},
   "outputs": [],
   "source": [
    "def get_num_irreducible(group, reducible_rep):\n",
    "    Nk = num_class(group)\n",
    "    h = sum(Nk)\n",
    "    A = np.conjugate(group.dot(np.diag(Nk)))\n",
    "    return (A.dot(reducible_rep)/h).to_numpy()"
   ]
  },
  {
   "cell_type": "markdown",
   "metadata": {},
   "source": [
    "# 4. Obtención de la representación reducible"
   ]
  },
  {
   "cell_type": "code",
   "execution_count": 6,
   "metadata": {
    "tags": []
   },
   "outputs": [
    {
     "output_type": "stream",
     "name": "stdout",
     "text": "Representación reducible: [4. 1. 0.]\n"
    }
   ],
   "source": [
    "num_irreducible = np.r_[1, 1, 1]\n",
    "reducible_rep = get_reducible_representation(C3v, num_irreducible)\n",
    "print('Representación reducible:', reducible_rep)"
   ]
  },
  {
   "cell_type": "markdown",
   "metadata": {},
   "source": [
    "# 5. Número de veces de cada representación"
   ]
  },
  {
   "cell_type": "code",
   "execution_count": 7,
   "metadata": {
    "tags": []
   },
   "outputs": [
    {
     "output_type": "stream",
     "name": "stdout",
     "text": "Número de veces de representaciones irreducibles: [1. 1. 1.]\n"
    }
   ],
   "source": [
    "reducible_rep = [4, 1, 0]\n",
    "num_irreducible_getted = get_num_irreducible(C3v, reducible_rep)\n",
    "print('Número de veces de representaciones irreducibles:', num_irreducible_getted)"
   ]
  },
  {
   "cell_type": "markdown",
   "metadata": {},
   "source": [
    "End!"
   ]
  }
 ]
}