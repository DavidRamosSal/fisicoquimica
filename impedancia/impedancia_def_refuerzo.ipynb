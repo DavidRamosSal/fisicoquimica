{
 "metadata": {
  "language_info": {
   "codemirror_mode": {
    "name": "ipython",
    "version": 3
   },
   "file_extension": ".py",
   "mimetype": "text/x-python",
   "name": "python",
   "nbconvert_exporter": "python",
   "pygments_lexer": "ipython3",
   "version": 3
  },
  "orig_nbformat": 2
 },
 "nbformat": 4,
 "nbformat_minor": 2,
 "cells": [
  {
   "cell_type": "markdown",
   "metadata": {},
   "source": [
    "# Refuerzo: impedancia eléctrica\n",
    "\n",
    "Sigue los siguientes pasos para que realices un refuerzo de lo aprendido:\n",
    "\n",
    "+ Vuelve a observar el [video explicativo](https://youtu.be/Il2dNcMS3es)."
   ]
  },
  {
   "cell_type": "code",
   "execution_count": null,
   "metadata": {},
   "outputs": [],
   "source": []
  }
 ]
}